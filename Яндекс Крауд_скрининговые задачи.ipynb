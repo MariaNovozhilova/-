{
 "cells": [
  {
   "cell_type": "markdown",
   "id": "515bbee3",
   "metadata": {},
   "source": [
    "## Задача: Определить, будет ли побитовое ИЛИ чисел в заданном массиве чётным или нечётным числом."
   ]
  },
  {
   "cell_type": "markdown",
   "id": "40d1189b",
   "metadata": {},
   "source": [
    "При побитовом ИЛИ чисел любой бит, установленный в 1, вызывает установку соответствующего бита результата также в 1. У четных чисел цепочка битов заканчивается на 0, у нечётных - на 1. Соответственно, если в массиве чисел есть хотя бы одно нечетное, то его побитовое ИЛИ будет нечетным. Если в массиве содержатся только четные числа, то побитовое ИЛИ будет четным.\n",
    "\n",
    "Напишу функцию, в которую подается массив чисел, а на выходе выдается ответ \"Побитовое ИЛИ четное\" или \"Побитовое ИЛИ нечетное\"."
   ]
  },
  {
   "cell_type": "code",
   "execution_count": 53,
   "id": "396ef21a",
   "metadata": {},
   "outputs": [],
   "source": [
    "massiv = [2.5,2,-3,4,4,6]"
   ]
  },
  {
   "cell_type": "code",
   "execution_count": 31,
   "id": "a69c072e",
   "metadata": {},
   "outputs": [],
   "source": [
    "def foo(massiv):\n",
    "    for i in massiv:\n",
    "        if i%2 == 1:\n",
    "            return 'Побитовое ИЛИ чисел нечётное'\n",
    "    return 'Побитовое ИЛИ чисел четное'"
   ]
  },
  {
   "cell_type": "code",
   "execution_count": 32,
   "id": "8711e616",
   "metadata": {},
   "outputs": [
    {
     "data": {
      "text/plain": [
       "'Побитовое ИЛИ чисел нечётное'"
      ]
     },
     "execution_count": 32,
     "metadata": {},
     "output_type": "execute_result"
    }
   ],
   "source": [
    "foo(massiv)"
   ]
  },
  {
   "cell_type": "markdown",
   "id": "b3950751",
   "metadata": {},
   "source": [
    "оценка сложности\n",
    "размер массива - n, сложность линейная О(n) "
   ]
  },
  {
   "cell_type": "markdown",
   "id": "951d8760",
   "metadata": {},
   "source": [
    "## Задача: Найти 2 целых числа в заданном массиве с наименьшей суммой."
   ]
  },
  {
   "cell_type": "markdown",
   "id": "316ae88d",
   "metadata": {},
   "source": [
    "Алгоритм решения: сначала отбираю из массива все целые числа (если число i равно int(i), то оно целое), затем из оставшего массива целых чисел нахожу два минимальных числа. Решение оформлено в виде функции, в которую подается массив и на выходе получаем два целых числа с наименьшей суммой (два самых маленьких)."
   ]
  },
  {
   "cell_type": "code",
   "execution_count": 54,
   "id": "e4a8efea",
   "metadata": {},
   "outputs": [],
   "source": [
    "def minimals_finder(mas):\n",
    "    int_massiv = []\n",
    "    for i in massiv:\n",
    "        if int(i) == i:\n",
    "            int_massiv.append(i)\n",
    "        \n",
    "    min1 = min(int_massiv)\n",
    "    int_massiv.remove(min1)\n",
    "    min2 = min(int_massiv)\n",
    "    \n",
    "    return f'2 целых числа в заданном массиве с наименьшей суммой: {min1} и {min2}'\n",
    "\n"
   ]
  },
  {
   "cell_type": "code",
   "execution_count": 55,
   "id": "aa752425",
   "metadata": {},
   "outputs": [
    {
     "data": {
      "text/plain": [
       "'2 целых числа в заданном массиве с наименьшей суммой: -3 и 2'"
      ]
     },
     "execution_count": 55,
     "metadata": {},
     "output_type": "execute_result"
    }
   ],
   "source": [
    "minimals_finder(massiv)"
   ]
  },
  {
   "cell_type": "code",
   "execution_count": null,
   "id": "401d6a98",
   "metadata": {},
   "outputs": [],
   "source": []
  }
 ],
 "metadata": {
  "kernelspec": {
   "display_name": "Python 3",
   "language": "python",
   "name": "python3"
  },
  "language_info": {
   "codemirror_mode": {
    "name": "ipython",
    "version": 3
   },
   "file_extension": ".py",
   "mimetype": "text/x-python",
   "name": "python",
   "nbconvert_exporter": "python",
   "pygments_lexer": "ipython3",
   "version": "3.8.8"
  },
  "toc": {
   "base_numbering": 1,
   "nav_menu": {},
   "number_sections": true,
   "sideBar": true,
   "skip_h1_title": false,
   "title_cell": "Table of Contents",
   "title_sidebar": "Contents",
   "toc_cell": false,
   "toc_position": {},
   "toc_section_display": true,
   "toc_window_display": false
  }
 },
 "nbformat": 4,
 "nbformat_minor": 5
}
