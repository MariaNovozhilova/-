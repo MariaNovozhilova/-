{
 "cells": [
  {
   "cell_type": "markdown",
   "id": "ab29e58a",
   "metadata": {},
   "source": [
    "# Тестовое задание  Awatera\n",
    "Перед вами файл с выгрузкой продаж за 2 года. Проанализируйте предоставленные данные. Какие закономерности и выводы вы можете сделать на основе этих данных? Попробуйте построить прогноз продаж на 2024 год.\n",
    "Для анализа примените все инструменты которые мы владеете и в ответном сообщении кратко опишите какие инструменты применяли."
   ]
  },
  {
   "cell_type": "code",
   "execution_count": 1,
   "id": "ce2ff812",
   "metadata": {},
   "outputs": [],
   "source": [
    "import pandas as pd\n",
    "import datetime as dt"
   ]
  },
  {
   "cell_type": "code",
   "execution_count": 2,
   "id": "75d7a190",
   "metadata": {},
   "outputs": [],
   "source": [
    "df = pd.read_excel(\"BI-тестовое задание.xlsx\")"
   ]
  },
  {
   "cell_type": "code",
   "execution_count": 3,
   "id": "e25ff72e",
   "metadata": {},
   "outputs": [],
   "source": [
    "pd.set_option('display.float_format', lambda x: '%.2f' % x)"
   ]
  },
  {
   "cell_type": "markdown",
   "id": "e6601d4c",
   "metadata": {},
   "source": [
    "## Предварительный просмотр"
   ]
  },
  {
   "cell_type": "code",
   "execution_count": 4,
   "id": "5208b1f7",
   "metadata": {},
   "outputs": [
    {
     "data": {
      "text/html": [
       "<div>\n",
       "<style scoped>\n",
       "    .dataframe tbody tr th:only-of-type {\n",
       "        vertical-align: middle;\n",
       "    }\n",
       "\n",
       "    .dataframe tbody tr th {\n",
       "        vertical-align: top;\n",
       "    }\n",
       "\n",
       "    .dataframe thead th {\n",
       "        text-align: right;\n",
       "    }\n",
       "</style>\n",
       "<table border=\"1\" class=\"dataframe\">\n",
       "  <thead>\n",
       "    <tr style=\"text-align: right;\">\n",
       "      <th></th>\n",
       "      <th>Заказ</th>\n",
       "      <th>Дата продажи</th>\n",
       "      <th>Сумма</th>\n",
       "      <th>Проданный заказ</th>\n",
       "      <th>Клиент</th>\n",
       "      <th>Сумма исполнителю</th>\n",
       "      <th>Дата выручки</th>\n",
       "      <th>Дата оплаты</th>\n",
       "      <th>Статус счета</th>\n",
       "      <th>Дата акта</th>\n",
       "      <th>Неоплаченная сумма</th>\n",
       "    </tr>\n",
       "  </thead>\n",
       "  <tbody>\n",
       "    <tr>\n",
       "      <th>0</th>\n",
       "      <td>S_167</td>\n",
       "      <td>2022-01-31</td>\n",
       "      <td>14311.88</td>\n",
       "      <td>NaN</td>\n",
       "      <td>К1</td>\n",
       "      <td>3494.39</td>\n",
       "      <td>2022-03-01</td>\n",
       "      <td>2022-03-11</td>\n",
       "      <td>Оплачена</td>\n",
       "      <td>2022-03-01</td>\n",
       "      <td>0</td>\n",
       "    </tr>\n",
       "    <tr>\n",
       "      <th>1</th>\n",
       "      <td>S_521</td>\n",
       "      <td>2022-03-10</td>\n",
       "      <td>5027.35</td>\n",
       "      <td>NaN</td>\n",
       "      <td>К1</td>\n",
       "      <td>2613.90</td>\n",
       "      <td>2022-04-01</td>\n",
       "      <td>2022-04-22</td>\n",
       "      <td>Оплачена</td>\n",
       "      <td>2022-04-01</td>\n",
       "      <td>0</td>\n",
       "    </tr>\n",
       "    <tr>\n",
       "      <th>2</th>\n",
       "      <td>VL112</td>\n",
       "      <td>2022-03-23</td>\n",
       "      <td>470.85</td>\n",
       "      <td>NaN</td>\n",
       "      <td>К2</td>\n",
       "      <td>226.73</td>\n",
       "      <td>2022-03-23</td>\n",
       "      <td>2022-03-23</td>\n",
       "      <td>Оплачена</td>\n",
       "      <td>NaT</td>\n",
       "      <td>0</td>\n",
       "    </tr>\n",
       "    <tr>\n",
       "      <th>3</th>\n",
       "      <td>S_218</td>\n",
       "      <td>2023-02-03</td>\n",
       "      <td>158.12</td>\n",
       "      <td>NaN</td>\n",
       "      <td>К3</td>\n",
       "      <td>12.38</td>\n",
       "      <td>2023-02-08</td>\n",
       "      <td>2023-02-10</td>\n",
       "      <td>Оплачена</td>\n",
       "      <td>2023-02-08</td>\n",
       "      <td>0</td>\n",
       "    </tr>\n",
       "    <tr>\n",
       "      <th>4</th>\n",
       "      <td>S_-31</td>\n",
       "      <td>2022-06-10</td>\n",
       "      <td>5064.54</td>\n",
       "      <td>NaN</td>\n",
       "      <td>К4</td>\n",
       "      <td>665.04</td>\n",
       "      <td>2022-06-27</td>\n",
       "      <td>2022-06-29</td>\n",
       "      <td>Оплачена</td>\n",
       "      <td>2022-06-27</td>\n",
       "      <td>0</td>\n",
       "    </tr>\n",
       "  </tbody>\n",
       "</table>\n",
       "</div>"
      ],
      "text/plain": [
       "   Заказ Дата продажи    Сумма Проданный заказ Клиент  Сумма исполнителю  \\\n",
       "0  S_167   2022-01-31 14311.88             NaN     К1            3494.39   \n",
       "1  S_521   2022-03-10  5027.35             NaN     К1            2613.90   \n",
       "2  VL112   2022-03-23   470.85             NaN     К2             226.73   \n",
       "3  S_218   2023-02-03   158.12             NaN     К3              12.38   \n",
       "4  S_-31   2022-06-10  5064.54             NaN     К4             665.04   \n",
       "\n",
       "  Дата выручки Дата оплаты Статус счета  Дата акта Неоплаченная сумма  \n",
       "0   2022-03-01  2022-03-11     Оплачена 2022-03-01                  0  \n",
       "1   2022-04-01  2022-04-22     Оплачена 2022-04-01                  0  \n",
       "2   2022-03-23  2022-03-23     Оплачена        NaT                  0  \n",
       "3   2023-02-08  2023-02-10     Оплачена 2023-02-08                  0  \n",
       "4   2022-06-27  2022-06-29     Оплачена 2022-06-27                  0  "
      ]
     },
     "execution_count": 4,
     "metadata": {},
     "output_type": "execute_result"
    }
   ],
   "source": [
    "df.head()"
   ]
  },
  {
   "cell_type": "code",
   "execution_count": 5,
   "id": "2bdfe19a",
   "metadata": {},
   "outputs": [
    {
     "data": {
      "text/html": [
       "<div>\n",
       "<style scoped>\n",
       "    .dataframe tbody tr th:only-of-type {\n",
       "        vertical-align: middle;\n",
       "    }\n",
       "\n",
       "    .dataframe tbody tr th {\n",
       "        vertical-align: top;\n",
       "    }\n",
       "\n",
       "    .dataframe thead th {\n",
       "        text-align: right;\n",
       "    }\n",
       "</style>\n",
       "<table border=\"1\" class=\"dataframe\">\n",
       "  <thead>\n",
       "    <tr style=\"text-align: right;\">\n",
       "      <th></th>\n",
       "      <th>Сумма</th>\n",
       "      <th>Сумма исполнителю</th>\n",
       "    </tr>\n",
       "  </thead>\n",
       "  <tbody>\n",
       "    <tr>\n",
       "      <th>count</th>\n",
       "      <td>83958.00</td>\n",
       "      <td>82820.00</td>\n",
       "    </tr>\n",
       "    <tr>\n",
       "      <th>mean</th>\n",
       "      <td>5612.42</td>\n",
       "      <td>1606.84</td>\n",
       "    </tr>\n",
       "    <tr>\n",
       "      <th>std</th>\n",
       "      <td>11068.96</td>\n",
       "      <td>4122.79</td>\n",
       "    </tr>\n",
       "    <tr>\n",
       "      <th>min</th>\n",
       "      <td>0.00</td>\n",
       "      <td>0.00</td>\n",
       "    </tr>\n",
       "    <tr>\n",
       "      <th>25%</th>\n",
       "      <td>714.29</td>\n",
       "      <td>187.98</td>\n",
       "    </tr>\n",
       "    <tr>\n",
       "      <th>50%</th>\n",
       "      <td>1706.28</td>\n",
       "      <td>421.10</td>\n",
       "    </tr>\n",
       "    <tr>\n",
       "      <th>75%</th>\n",
       "      <td>5155.83</td>\n",
       "      <td>1320.15</td>\n",
       "    </tr>\n",
       "    <tr>\n",
       "      <th>max</th>\n",
       "      <td>99808.28</td>\n",
       "      <td>268661.00</td>\n",
       "    </tr>\n",
       "  </tbody>\n",
       "</table>\n",
       "</div>"
      ],
      "text/plain": [
       "         Сумма  Сумма исполнителю\n",
       "count 83958.00           82820.00\n",
       "mean   5612.42            1606.84\n",
       "std   11068.96            4122.79\n",
       "min       0.00               0.00\n",
       "25%     714.29             187.98\n",
       "50%    1706.28             421.10\n",
       "75%    5155.83            1320.15\n",
       "max   99808.28          268661.00"
      ]
     },
     "execution_count": 5,
     "metadata": {},
     "output_type": "execute_result"
    }
   ],
   "source": [
    "df.describe()"
   ]
  },
  {
   "cell_type": "markdown",
   "id": "6d9e85c4",
   "metadata": {},
   "source": [
    "### странно, что максимальная сумма выплаты исполнителю выше, чем сумма продажи. Проверю это далее"
   ]
  },
  {
   "cell_type": "code",
   "execution_count": 6,
   "id": "4d47c79e",
   "metadata": {},
   "outputs": [
    {
     "name": "stdout",
     "output_type": "stream",
     "text": [
      "<class 'pandas.core.frame.DataFrame'>\n",
      "RangeIndex: 83958 entries, 0 to 83957\n",
      "Data columns (total 11 columns):\n",
      " #   Column              Non-Null Count  Dtype         \n",
      "---  ------              --------------  -----         \n",
      " 0   Заказ               83957 non-null  object        \n",
      " 1   Дата продажи        83958 non-null  datetime64[ns]\n",
      " 2   Сумма               83958 non-null  float64       \n",
      " 3   Проданный заказ     2893 non-null   object        \n",
      " 4   Клиент              83958 non-null  object        \n",
      " 5   Сумма исполнителю   82820 non-null  float64       \n",
      " 6   Дата выручки        82590 non-null  datetime64[ns]\n",
      " 7   Дата оплаты         81315 non-null  datetime64[ns]\n",
      " 8   Статус счета        83958 non-null  object        \n",
      " 9   Дата акта           51322 non-null  datetime64[ns]\n",
      " 10  Неоплаченная сумма  83958 non-null  object        \n",
      "dtypes: datetime64[ns](4), float64(2), object(5)\n",
      "memory usage: 7.0+ MB\n"
     ]
    }
   ],
   "source": [
    "df.info()"
   ]
  },
  {
   "cell_type": "code",
   "execution_count": 7,
   "id": "59d555f9",
   "metadata": {},
   "outputs": [
    {
     "name": "stdout",
     "output_type": "stream",
     "text": [
      "2022-01-02 00:00:00 2023-12-31 00:00:00\n"
     ]
    }
   ],
   "source": [
    "print(df['Дата продажи'].min(),df['Дата продажи'].max())"
   ]
  },
  {
   "cell_type": "markdown",
   "id": "290fd8a9",
   "metadata": {},
   "source": [
    "### Период -  полные два года"
   ]
  },
  {
   "cell_type": "code",
   "execution_count": 8,
   "id": "10788ae4",
   "metadata": {},
   "outputs": [
    {
     "data": {
      "text/plain": [
       "0"
      ]
     },
     "execution_count": 8,
     "metadata": {},
     "output_type": "execute_result"
    }
   ],
   "source": [
    "df.duplicated().sum()"
   ]
  },
  {
   "cell_type": "markdown",
   "id": "6b902aa8",
   "metadata": {},
   "source": [
    "явных дубликатов в данных нет"
   ]
  },
  {
   "cell_type": "code",
   "execution_count": 9,
   "id": "50950f4a",
   "metadata": {},
   "outputs": [
    {
     "data": {
      "text/plain": [
       "К1       7166\n",
       "К22      3415\n",
       "К50      2968\n",
       "К5       2947\n",
       "К16      2784\n",
       "         ... \n",
       "К1734       1\n",
       "К1323       1\n",
       "К640        1\n",
       "К847        1\n",
       "К1979       1\n",
       "Name: Клиент, Length: 2304, dtype: int64"
      ]
     },
     "execution_count": 9,
     "metadata": {},
     "output_type": "execute_result"
    }
   ],
   "source": [
    "df['Клиент'].value_counts()"
   ]
  },
  {
   "cell_type": "markdown",
   "id": "983ba1a6",
   "metadata": {},
   "source": [
    "клиентов меньше, чем строк, то есть клиенты практикуют повторные заказы, можно далее проанализировать динамику"
   ]
  },
  {
   "cell_type": "markdown",
   "id": "cd467e83",
   "metadata": {},
   "source": [
    "## Аномалии и ошибки"
   ]
  },
  {
   "cell_type": "code",
   "execution_count": 10,
   "id": "b954b992",
   "metadata": {},
   "outputs": [
    {
     "name": "stdout",
     "output_type": "stream",
     "text": [
      "S_-10    78\n",
      "S_-11    72\n",
      "S_-13    70\n",
      "S_-15    66\n",
      "S_-19    65\n",
      "         ..\n",
      "C30-3     1\n",
      "BEG-8     1\n",
      "TV562     1\n",
      "VI-99     1\n",
      "T_940     1\n",
      "Name: Заказ, Length: 20245, dtype: int64\n",
      "2022-03-14    254\n",
      "2022-04-12    247\n",
      "2022-11-07    246\n",
      "2022-02-16    243\n",
      "2022-03-10    239\n",
      "             ... \n",
      "2022-07-02      1\n",
      "2022-05-08      1\n",
      "2023-01-07      1\n",
      "2023-02-05      1\n",
      "2022-01-02      1\n",
      "Name: Дата продажи, Length: 711, dtype: int64\n",
      "582.96      1019\n",
      "582.96       998\n",
      "0.00         979\n",
      "807.17       814\n",
      "538.12       693\n",
      "            ... \n",
      "56363.00       1\n",
      "5567.35        1\n",
      "37839.71       1\n",
      "16229.15       1\n",
      "3452.12        1\n",
      "Name: Сумма, Length: 49395, dtype: int64\n",
      "True     2874\n",
      "False      19\n",
      "Name: Проданный заказ, dtype: int64\n",
      "К1       7166\n",
      "К22      3415\n",
      "К50      2968\n",
      "К5       2947\n",
      "К16      2784\n",
      "         ... \n",
      "К1734       1\n",
      "К1323       1\n",
      "К640        1\n",
      "К847        1\n",
      "К1979       1\n",
      "Name: Клиент, Length: 2304, dtype: int64\n",
      "179.37     816\n",
      "0.00       738\n",
      "196.86     519\n",
      "224.22     404\n",
      "206.28     341\n",
      "          ... \n",
      "329.42       1\n",
      "7232.86      1\n",
      "2694.13      1\n",
      "1297.56      1\n",
      "640.27       1\n",
      "Name: Сумма исполнителю, Length: 58317, dtype: int64\n",
      "2022-02-28    968\n",
      "2023-05-02    890\n",
      "2022-01-31    755\n",
      "2022-03-31    731\n",
      "2023-10-31    723\n",
      "             ... \n",
      "2022-08-20      1\n",
      "2022-12-10      1\n",
      "2021-12-23      1\n",
      "2024-03-13      1\n",
      "2022-07-09      1\n",
      "Name: Дата выручки, Length: 747, dtype: int64\n",
      "2023-07-21    614\n",
      "2022-05-19    562\n",
      "2023-04-19    559\n",
      "2023-06-19    524\n",
      "2023-08-16    519\n",
      "             ... \n",
      "2022-01-23      1\n",
      "2022-05-08      1\n",
      "2023-10-15      1\n",
      "2020-09-11      1\n",
      "2022-04-16      1\n",
      "Name: Дата оплаты, Length: 741, dtype: int64\n",
      "Оплачена             81189\n",
      "Нет спецификации      1763\n",
      "Не оплачена            687\n",
      "Просрочена             213\n",
      "Частично оплачена       84\n",
      "Списание                19\n",
      "reinvoiced               3\n",
      "Name: Статус счета, dtype: int64\n",
      "2022-02-28    926\n",
      "2023-05-02    717\n",
      "2022-01-31    698\n",
      "2023-10-31    679\n",
      "2022-03-31    676\n",
      "             ... \n",
      "2023-05-06      1\n",
      "2022-04-09      1\n",
      "2021-11-30      1\n",
      "2024-02-16      1\n",
      "2024-01-04      1\n",
      "Name: Дата акта, Length: 620, dtype: int64\n",
      "0.00       77781\n",
      "-0.00        544\n",
      "-0.00        235\n",
      "-0.22        165\n",
      "-0.22        109\n",
      "           ...  \n",
      "2774.84        1\n",
      "2782.63        1\n",
      "2785.40        1\n",
      "2641.71        1\n",
      "-1.33          1\n",
      "Name: Неоплаченная сумма, Length: 2921, dtype: int64\n"
     ]
    }
   ],
   "source": [
    "for col in df.columns:\n",
    "    print(df[col].value_counts())"
   ]
  },
  {
   "cell_type": "markdown",
   "id": "3d633a3c",
   "metadata": {},
   "source": [
    "### Повторяющиеся номера заказов"
   ]
  },
  {
   "cell_type": "markdown",
   "id": "78bcf822",
   "metadata": {},
   "source": [
    "есть повторяющиеся номера заказов, что это значит? Это в одном заказе много продуктов или что-то другое? Если в выгрузке есть информация по количеству заказов в продукте, то можно проанализировать динамику.\n",
    "Смотрю подробнее один из заказов, который повторяется 78 раз:"
   ]
  },
  {
   "cell_type": "code",
   "execution_count": 11,
   "id": "c10f9338",
   "metadata": {},
   "outputs": [
    {
     "data": {
      "text/html": [
       "<div>\n",
       "<style scoped>\n",
       "    .dataframe tbody tr th:only-of-type {\n",
       "        vertical-align: middle;\n",
       "    }\n",
       "\n",
       "    .dataframe tbody tr th {\n",
       "        vertical-align: top;\n",
       "    }\n",
       "\n",
       "    .dataframe thead th {\n",
       "        text-align: right;\n",
       "    }\n",
       "</style>\n",
       "<table border=\"1\" class=\"dataframe\">\n",
       "  <thead>\n",
       "    <tr style=\"text-align: right;\">\n",
       "      <th></th>\n",
       "      <th>Заказ</th>\n",
       "      <th>Дата продажи</th>\n",
       "      <th>Сумма</th>\n",
       "      <th>Проданный заказ</th>\n",
       "      <th>Клиент</th>\n",
       "      <th>Сумма исполнителю</th>\n",
       "      <th>Дата выручки</th>\n",
       "      <th>Дата оплаты</th>\n",
       "      <th>Статус счета</th>\n",
       "      <th>Дата акта</th>\n",
       "      <th>Неоплаченная сумма</th>\n",
       "    </tr>\n",
       "  </thead>\n",
       "  <tbody>\n",
       "    <tr>\n",
       "      <th>614</th>\n",
       "      <td>S_-10</td>\n",
       "      <td>2022-07-19</td>\n",
       "      <td>914.80</td>\n",
       "      <td>NaN</td>\n",
       "      <td>К226</td>\n",
       "      <td>269.06</td>\n",
       "      <td>2022-07-22</td>\n",
       "      <td>2022-09-22</td>\n",
       "      <td>Оплачена</td>\n",
       "      <td>2022-07-22</td>\n",
       "      <td>0</td>\n",
       "    </tr>\n",
       "    <tr>\n",
       "      <th>1734</th>\n",
       "      <td>S_-10</td>\n",
       "      <td>2022-06-30</td>\n",
       "      <td>673.77</td>\n",
       "      <td>NaN</td>\n",
       "      <td>К441</td>\n",
       "      <td>9.33</td>\n",
       "      <td>2022-07-11</td>\n",
       "      <td>2022-06-30</td>\n",
       "      <td>Оплачена</td>\n",
       "      <td>2022-07-11</td>\n",
       "      <td>0</td>\n",
       "    </tr>\n",
       "    <tr>\n",
       "      <th>4070</th>\n",
       "      <td>S_-10</td>\n",
       "      <td>2022-01-31</td>\n",
       "      <td>12162.24</td>\n",
       "      <td>NaN</td>\n",
       "      <td>К669</td>\n",
       "      <td>NaN</td>\n",
       "      <td>2022-03-04</td>\n",
       "      <td>NaT</td>\n",
       "      <td>Не оплачена</td>\n",
       "      <td>NaT</td>\n",
       "      <td>12162.24</td>\n",
       "    </tr>\n",
       "    <tr>\n",
       "      <th>4178</th>\n",
       "      <td>S_-10</td>\n",
       "      <td>2023-12-12</td>\n",
       "      <td>8410.92</td>\n",
       "      <td>NaN</td>\n",
       "      <td>К684</td>\n",
       "      <td>2071.48</td>\n",
       "      <td>2023-12-15</td>\n",
       "      <td>2023-12-15</td>\n",
       "      <td>Оплачена</td>\n",
       "      <td>NaT</td>\n",
       "      <td>0</td>\n",
       "    </tr>\n",
       "    <tr>\n",
       "      <th>6905</th>\n",
       "      <td>S_-10</td>\n",
       "      <td>2022-02-01</td>\n",
       "      <td>2251.21</td>\n",
       "      <td>NaN</td>\n",
       "      <td>К868</td>\n",
       "      <td>1658.03</td>\n",
       "      <td>2022-02-10</td>\n",
       "      <td>2022-03-15</td>\n",
       "      <td>Оплачена</td>\n",
       "      <td>2022-02-10</td>\n",
       "      <td>0</td>\n",
       "    </tr>\n",
       "    <tr>\n",
       "      <th>...</th>\n",
       "      <td>...</td>\n",
       "      <td>...</td>\n",
       "      <td>...</td>\n",
       "      <td>...</td>\n",
       "      <td>...</td>\n",
       "      <td>...</td>\n",
       "      <td>...</td>\n",
       "      <td>...</td>\n",
       "      <td>...</td>\n",
       "      <td>...</td>\n",
       "      <td>...</td>\n",
       "    </tr>\n",
       "    <tr>\n",
       "      <th>76805</th>\n",
       "      <td>S_-10</td>\n",
       "      <td>2022-12-26</td>\n",
       "      <td>0.00</td>\n",
       "      <td>NaN</td>\n",
       "      <td>К257</td>\n",
       "      <td>0.00</td>\n",
       "      <td>NaT</td>\n",
       "      <td>NaT</td>\n",
       "      <td>Нет спецификации</td>\n",
       "      <td>NaT</td>\n",
       "      <td>0</td>\n",
       "    </tr>\n",
       "    <tr>\n",
       "      <th>78968</th>\n",
       "      <td>S_-10</td>\n",
       "      <td>2023-06-09</td>\n",
       "      <td>24084.39</td>\n",
       "      <td>NaN</td>\n",
       "      <td>К2101</td>\n",
       "      <td>9753.36</td>\n",
       "      <td>2023-06-09</td>\n",
       "      <td>2023-07-10</td>\n",
       "      <td>Оплачена</td>\n",
       "      <td>2023-06-09</td>\n",
       "      <td>0</td>\n",
       "    </tr>\n",
       "    <tr>\n",
       "      <th>79618</th>\n",
       "      <td>S_-10</td>\n",
       "      <td>2023-02-09</td>\n",
       "      <td>1359.55</td>\n",
       "      <td>NaN</td>\n",
       "      <td>К234</td>\n",
       "      <td>122.25</td>\n",
       "      <td>2023-02-27</td>\n",
       "      <td>2023-03-09</td>\n",
       "      <td>Оплачена</td>\n",
       "      <td>2023-02-27</td>\n",
       "      <td>0</td>\n",
       "    </tr>\n",
       "    <tr>\n",
       "      <th>83148</th>\n",
       "      <td>S_-10</td>\n",
       "      <td>2022-10-12</td>\n",
       "      <td>154.55</td>\n",
       "      <td>NaN</td>\n",
       "      <td>К1679</td>\n",
       "      <td>24.07</td>\n",
       "      <td>2022-10-13</td>\n",
       "      <td>2022-10-13</td>\n",
       "      <td>Оплачена</td>\n",
       "      <td>NaT</td>\n",
       "      <td>0</td>\n",
       "    </tr>\n",
       "    <tr>\n",
       "      <th>83192</th>\n",
       "      <td>S_-10</td>\n",
       "      <td>2023-04-18</td>\n",
       "      <td>6813.98</td>\n",
       "      <td>NaN</td>\n",
       "      <td>К644</td>\n",
       "      <td>334.17</td>\n",
       "      <td>2023-04-26</td>\n",
       "      <td>2023-04-27</td>\n",
       "      <td>Оплачена</td>\n",
       "      <td>2023-04-26</td>\n",
       "      <td>0</td>\n",
       "    </tr>\n",
       "  </tbody>\n",
       "</table>\n",
       "<p>78 rows × 11 columns</p>\n",
       "</div>"
      ],
      "text/plain": [
       "       Заказ Дата продажи    Сумма Проданный заказ Клиент  Сумма исполнителю  \\\n",
       "614    S_-10   2022-07-19   914.80             NaN   К226             269.06   \n",
       "1734   S_-10   2022-06-30   673.77             NaN   К441               9.33   \n",
       "4070   S_-10   2022-01-31 12162.24             NaN   К669                NaN   \n",
       "4178   S_-10   2023-12-12  8410.92             NaN   К684            2071.48   \n",
       "6905   S_-10   2022-02-01  2251.21             NaN   К868            1658.03   \n",
       "...      ...          ...      ...             ...    ...                ...   \n",
       "76805  S_-10   2022-12-26     0.00             NaN   К257               0.00   \n",
       "78968  S_-10   2023-06-09 24084.39             NaN  К2101            9753.36   \n",
       "79618  S_-10   2023-02-09  1359.55             NaN   К234             122.25   \n",
       "83148  S_-10   2022-10-12   154.55             NaN  К1679              24.07   \n",
       "83192  S_-10   2023-04-18  6813.98             NaN   К644             334.17   \n",
       "\n",
       "      Дата выручки Дата оплаты      Статус счета  Дата акта Неоплаченная сумма  \n",
       "614     2022-07-22  2022-09-22          Оплачена 2022-07-22                  0  \n",
       "1734    2022-07-11  2022-06-30          Оплачена 2022-07-11                  0  \n",
       "4070    2022-03-04         NaT       Не оплачена        NaT           12162.24  \n",
       "4178    2023-12-15  2023-12-15          Оплачена        NaT                  0  \n",
       "6905    2022-02-10  2022-03-15          Оплачена 2022-02-10                  0  \n",
       "...            ...         ...               ...        ...                ...  \n",
       "76805          NaT         NaT  Нет спецификации        NaT                  0  \n",
       "78968   2023-06-09  2023-07-10          Оплачена 2023-06-09                  0  \n",
       "79618   2023-02-27  2023-03-09          Оплачена 2023-02-27                  0  \n",
       "83148   2022-10-13  2022-10-13          Оплачена        NaT                  0  \n",
       "83192   2023-04-26  2023-04-27          Оплачена 2023-04-26                  0  \n",
       "\n",
       "[78 rows x 11 columns]"
      ]
     },
     "execution_count": 11,
     "metadata": {},
     "output_type": "execute_result"
    }
   ],
   "source": [
    "df[df['Заказ'] == 'S_-10']"
   ]
  },
  {
   "cell_type": "markdown",
   "id": "848685e9",
   "metadata": {},
   "source": [
    "заказы с одинаковым номером имеют разные даты и разных клиентов, очевидно, что это разные заказы, просто не уникальные номера заказов."
   ]
  },
  {
   "cell_type": "markdown",
   "id": "62a9eb8f",
   "metadata": {},
   "source": [
    "### Выплаты исполнителям более суммы заказа"
   ]
  },
  {
   "cell_type": "code",
   "execution_count": 12,
   "id": "88cc13d3",
   "metadata": {},
   "outputs": [
    {
     "data": {
      "text/html": [
       "<div>\n",
       "<style scoped>\n",
       "    .dataframe tbody tr th:only-of-type {\n",
       "        vertical-align: middle;\n",
       "    }\n",
       "\n",
       "    .dataframe tbody tr th {\n",
       "        vertical-align: top;\n",
       "    }\n",
       "\n",
       "    .dataframe thead th {\n",
       "        text-align: right;\n",
       "    }\n",
       "</style>\n",
       "<table border=\"1\" class=\"dataframe\">\n",
       "  <thead>\n",
       "    <tr style=\"text-align: right;\">\n",
       "      <th></th>\n",
       "      <th>Сумма</th>\n",
       "      <th>Сумма исполнителю</th>\n",
       "    </tr>\n",
       "  </thead>\n",
       "  <tbody>\n",
       "    <tr>\n",
       "      <th>count</th>\n",
       "      <td>977.00</td>\n",
       "      <td>977.00</td>\n",
       "    </tr>\n",
       "    <tr>\n",
       "      <th>mean</th>\n",
       "      <td>1451.15</td>\n",
       "      <td>3936.94</td>\n",
       "    </tr>\n",
       "    <tr>\n",
       "      <th>std</th>\n",
       "      <td>7453.39</td>\n",
       "      <td>14942.44</td>\n",
       "    </tr>\n",
       "    <tr>\n",
       "      <th>min</th>\n",
       "      <td>0.00</td>\n",
       "      <td>0.13</td>\n",
       "    </tr>\n",
       "    <tr>\n",
       "      <th>25%</th>\n",
       "      <td>0.00</td>\n",
       "      <td>137.33</td>\n",
       "    </tr>\n",
       "    <tr>\n",
       "      <th>50%</th>\n",
       "      <td>0.00</td>\n",
       "      <td>642.76</td>\n",
       "    </tr>\n",
       "    <tr>\n",
       "      <th>75%</th>\n",
       "      <td>0.00</td>\n",
       "      <td>2643.50</td>\n",
       "    </tr>\n",
       "    <tr>\n",
       "      <th>max</th>\n",
       "      <td>91054.76</td>\n",
       "      <td>268661.00</td>\n",
       "    </tr>\n",
       "  </tbody>\n",
       "</table>\n",
       "</div>"
      ],
      "text/plain": [
       "         Сумма  Сумма исполнителю\n",
       "count   977.00             977.00\n",
       "mean   1451.15            3936.94\n",
       "std    7453.39           14942.44\n",
       "min       0.00               0.13\n",
       "25%       0.00             137.33\n",
       "50%       0.00             642.76\n",
       "75%       0.00            2643.50\n",
       "max   91054.76          268661.00"
      ]
     },
     "execution_count": 12,
     "metadata": {},
     "output_type": "execute_result"
    }
   ],
   "source": [
    "strange_orders = df[df['Сумма исполнителю'] > df['Сумма']]\n",
    "strange_orders.describe()"
   ]
  },
  {
   "cell_type": "markdown",
   "id": "e0b86b98",
   "metadata": {},
   "source": [
    "977 заказов, по которым сумма исполнителю больше суммы заказа (большинство заказов с нулевой суммой)."
   ]
  },
  {
   "cell_type": "code",
   "execution_count": 13,
   "id": "04539558",
   "metadata": {},
   "outputs": [
    {
     "data": {
      "text/plain": [
       "Оплачена             81189\n",
       "Нет спецификации      1763\n",
       "Не оплачена            687\n",
       "Просрочена             213\n",
       "Частично оплачена       84\n",
       "Списание                19\n",
       "reinvoiced               3\n",
       "Name: Статус счета, dtype: int64"
      ]
     },
     "execution_count": 13,
     "metadata": {},
     "output_type": "execute_result"
    }
   ],
   "source": [
    "df['Статус счета'].value_counts()"
   ]
  },
  {
   "cell_type": "code",
   "execution_count": 14,
   "id": "7d470443",
   "metadata": {},
   "outputs": [
    {
     "data": {
      "text/plain": [
       "Нет спецификации    750\n",
       "Оплачена            212\n",
       "Не оплачена          13\n",
       "Списание              2\n",
       "Name: Статус счета, dtype: int64"
      ]
     },
     "execution_count": 14,
     "metadata": {},
     "output_type": "execute_result"
    }
   ],
   "source": [
    "strange_orders['Статус счета'].value_counts()"
   ]
  },
  {
   "cell_type": "markdown",
   "id": "90746669",
   "metadata": {},
   "source": [
    "## Анализ по годам/периодам"
   ]
  },
  {
   "cell_type": "code",
   "execution_count": 15,
   "id": "551c5cee",
   "metadata": {},
   "outputs": [],
   "source": [
    "df['Year'] = df['Дата продажи'].dt.year\n",
    "df['Month'] = df['Дата продажи'].dt.month\n"
   ]
  },
  {
   "cell_type": "code",
   "execution_count": 16,
   "id": "b803c931",
   "metadata": {},
   "outputs": [
    {
     "data": {
      "text/html": [
       "<div>\n",
       "<style scoped>\n",
       "    .dataframe tbody tr th:only-of-type {\n",
       "        vertical-align: middle;\n",
       "    }\n",
       "\n",
       "    .dataframe tbody tr th {\n",
       "        vertical-align: top;\n",
       "    }\n",
       "\n",
       "    .dataframe thead th {\n",
       "        text-align: right;\n",
       "    }\n",
       "</style>\n",
       "<table border=\"1\" class=\"dataframe\">\n",
       "  <thead>\n",
       "    <tr style=\"text-align: right;\">\n",
       "      <th></th>\n",
       "      <th>Заказ</th>\n",
       "      <th>Дата продажи</th>\n",
       "      <th>Сумма</th>\n",
       "      <th>Проданный заказ</th>\n",
       "      <th>Клиент</th>\n",
       "      <th>Сумма исполнителю</th>\n",
       "      <th>Дата выручки</th>\n",
       "      <th>Дата оплаты</th>\n",
       "      <th>Статус счета</th>\n",
       "      <th>Дата акта</th>\n",
       "      <th>Неоплаченная сумма</th>\n",
       "      <th>Year</th>\n",
       "      <th>Month</th>\n",
       "    </tr>\n",
       "  </thead>\n",
       "  <tbody>\n",
       "    <tr>\n",
       "      <th>0</th>\n",
       "      <td>S_167</td>\n",
       "      <td>2022-01-31</td>\n",
       "      <td>14311.88</td>\n",
       "      <td>NaN</td>\n",
       "      <td>К1</td>\n",
       "      <td>3494.39</td>\n",
       "      <td>2022-03-01</td>\n",
       "      <td>2022-03-11</td>\n",
       "      <td>Оплачена</td>\n",
       "      <td>2022-03-01</td>\n",
       "      <td>0</td>\n",
       "      <td>2022</td>\n",
       "      <td>1</td>\n",
       "    </tr>\n",
       "    <tr>\n",
       "      <th>1</th>\n",
       "      <td>S_521</td>\n",
       "      <td>2022-03-10</td>\n",
       "      <td>5027.35</td>\n",
       "      <td>NaN</td>\n",
       "      <td>К1</td>\n",
       "      <td>2613.90</td>\n",
       "      <td>2022-04-01</td>\n",
       "      <td>2022-04-22</td>\n",
       "      <td>Оплачена</td>\n",
       "      <td>2022-04-01</td>\n",
       "      <td>0</td>\n",
       "      <td>2022</td>\n",
       "      <td>3</td>\n",
       "    </tr>\n",
       "    <tr>\n",
       "      <th>2</th>\n",
       "      <td>VL112</td>\n",
       "      <td>2022-03-23</td>\n",
       "      <td>470.85</td>\n",
       "      <td>NaN</td>\n",
       "      <td>К2</td>\n",
       "      <td>226.73</td>\n",
       "      <td>2022-03-23</td>\n",
       "      <td>2022-03-23</td>\n",
       "      <td>Оплачена</td>\n",
       "      <td>NaT</td>\n",
       "      <td>0</td>\n",
       "      <td>2022</td>\n",
       "      <td>3</td>\n",
       "    </tr>\n",
       "    <tr>\n",
       "      <th>3</th>\n",
       "      <td>S_218</td>\n",
       "      <td>2023-02-03</td>\n",
       "      <td>158.12</td>\n",
       "      <td>NaN</td>\n",
       "      <td>К3</td>\n",
       "      <td>12.38</td>\n",
       "      <td>2023-02-08</td>\n",
       "      <td>2023-02-10</td>\n",
       "      <td>Оплачена</td>\n",
       "      <td>2023-02-08</td>\n",
       "      <td>0</td>\n",
       "      <td>2023</td>\n",
       "      <td>2</td>\n",
       "    </tr>\n",
       "    <tr>\n",
       "      <th>4</th>\n",
       "      <td>S_-31</td>\n",
       "      <td>2022-06-10</td>\n",
       "      <td>5064.54</td>\n",
       "      <td>NaN</td>\n",
       "      <td>К4</td>\n",
       "      <td>665.04</td>\n",
       "      <td>2022-06-27</td>\n",
       "      <td>2022-06-29</td>\n",
       "      <td>Оплачена</td>\n",
       "      <td>2022-06-27</td>\n",
       "      <td>0</td>\n",
       "      <td>2022</td>\n",
       "      <td>6</td>\n",
       "    </tr>\n",
       "  </tbody>\n",
       "</table>\n",
       "</div>"
      ],
      "text/plain": [
       "   Заказ Дата продажи    Сумма Проданный заказ Клиент  Сумма исполнителю  \\\n",
       "0  S_167   2022-01-31 14311.88             NaN     К1            3494.39   \n",
       "1  S_521   2022-03-10  5027.35             NaN     К1            2613.90   \n",
       "2  VL112   2022-03-23   470.85             NaN     К2             226.73   \n",
       "3  S_218   2023-02-03   158.12             NaN     К3              12.38   \n",
       "4  S_-31   2022-06-10  5064.54             NaN     К4             665.04   \n",
       "\n",
       "  Дата выручки Дата оплаты Статус счета  Дата акта Неоплаченная сумма  Year  \\\n",
       "0   2022-03-01  2022-03-11     Оплачена 2022-03-01                  0  2022   \n",
       "1   2022-04-01  2022-04-22     Оплачена 2022-04-01                  0  2022   \n",
       "2   2022-03-23  2022-03-23     Оплачена        NaT                  0  2022   \n",
       "3   2023-02-08  2023-02-10     Оплачена 2023-02-08                  0  2023   \n",
       "4   2022-06-27  2022-06-29     Оплачена 2022-06-27                  0  2022   \n",
       "\n",
       "   Month  \n",
       "0      1  \n",
       "1      3  \n",
       "2      3  \n",
       "3      2  \n",
       "4      6  "
      ]
     },
     "execution_count": 16,
     "metadata": {},
     "output_type": "execute_result"
    }
   ],
   "source": [
    "df.head()"
   ]
  },
  {
   "cell_type": "markdown",
   "id": "74b029be",
   "metadata": {},
   "source": [
    "### Количество клиентов снизилось на 15%"
   ]
  },
  {
   "cell_type": "code",
   "execution_count": 17,
   "id": "15994c26",
   "metadata": {},
   "outputs": [
    {
     "data": {
      "text/plain": [
       "Year\n",
       "2022    1747\n",
       "2023    1484\n",
       "Name: Клиент, dtype: int64"
      ]
     },
     "execution_count": 17,
     "metadata": {},
     "output_type": "execute_result"
    }
   ],
   "source": [
    "df.groupby('Year')['Клиент'].nunique()"
   ]
  },
  {
   "cell_type": "code",
   "execution_count": 18,
   "id": "1993ee2a",
   "metadata": {},
   "outputs": [],
   "source": [
    "number_of_customers2022 = df[df['Year'] == 2022]['Клиент'].nunique()\n",
    "number_of_customers2023 = df[df['Year'] == 2023]['Клиент'].nunique()\n",
    "cust_num_dif = (number_of_customers2023-number_of_customers2022)/number_of_customers2022*100"
   ]
  },
  {
   "cell_type": "code",
   "execution_count": 19,
   "id": "3318bc71",
   "metadata": {},
   "outputs": [
    {
     "data": {
      "text/plain": [
       "-15.054378935317688"
      ]
     },
     "execution_count": 19,
     "metadata": {},
     "output_type": "execute_result"
    }
   ],
   "source": [
    "cust_num_dif"
   ]
  },
  {
   "cell_type": "markdown",
   "id": "af6283ee",
   "metadata": {},
   "source": [
    "### Среднее количество заказов на одного клиента"
   ]
  },
  {
   "cell_type": "code",
   "execution_count": 20,
   "id": "7e64a13d",
   "metadata": {},
   "outputs": [
    {
     "data": {
      "text/plain": [
       "Клиент\n",
       "К1       7166\n",
       "К10        13\n",
       "К100      421\n",
       "К1000      21\n",
       "К1001      12\n",
       "         ... \n",
       "К995       20\n",
       "К996        6\n",
       "К997        1\n",
       "К998        2\n",
       "К999        2\n",
       "Name: Заказ, Length: 2304, dtype: int64"
      ]
     },
     "execution_count": 20,
     "metadata": {},
     "output_type": "execute_result"
    }
   ],
   "source": [
    "df.groupby('Клиент')['Заказ'].count()"
   ]
  },
  {
   "cell_type": "code",
   "execution_count": 21,
   "id": "c94edcc6",
   "metadata": {},
   "outputs": [
    {
     "data": {
      "text/plain": [
       "26.028048082427016"
      ]
     },
     "execution_count": 21,
     "metadata": {},
     "output_type": "execute_result"
    }
   ],
   "source": [
    "df[df['Year'] == 2022].groupby('Клиент')['Заказ'].count().mean()"
   ]
  },
  {
   "cell_type": "code",
   "execution_count": 22,
   "id": "64c3fae1",
   "metadata": {},
   "outputs": [
    {
     "data": {
      "text/plain": [
       "25.933962264150942"
      ]
     },
     "execution_count": 22,
     "metadata": {},
     "output_type": "execute_result"
    }
   ],
   "source": [
    "df[df['Year'] == 2023].groupby('Клиент')['Заказ'].count().mean()"
   ]
  },
  {
   "cell_type": "code",
   "execution_count": 23,
   "id": "584a126f",
   "metadata": {},
   "outputs": [
    {
     "data": {
      "text/plain": [
       "-0.36147857871676814"
      ]
     },
     "execution_count": 23,
     "metadata": {},
     "output_type": "execute_result"
    }
   ],
   "source": [
    "(25.933962264150942-26.028048082427016)/26.028048082427016*100"
   ]
  },
  {
   "cell_type": "markdown",
   "id": "38e5b3b2",
   "metadata": {},
   "source": [
    "Клиенты склонны возвращаться в магазин и среднее количество заказов на клиента практически не изменилось в 2023 г по сравнению с 2022. Снижение менее 0,4%."
   ]
  },
  {
   "cell_type": "code",
   "execution_count": 24,
   "id": "fdb5d55c",
   "metadata": {},
   "outputs": [
    {
     "data": {
      "text/plain": [
       "<AxesSubplot:>"
      ]
     },
     "execution_count": 24,
     "metadata": {},
     "output_type": "execute_result"
    },
    {
     "data": {
      "image/png": "[encoded data removed]",
      "text/plain": [
       "<Figure size 432x288 with 1 Axes>"
      ]
     },
     "metadata": {
      "needs_background": "light"
     },
     "output_type": "display_data"
    }
   ],
   "source": [
    "df.groupby('Клиент')['Заказ'].count().hist(bins=100)"
   ]
  },
  {
   "cell_type": "code",
   "execution_count": 25,
   "id": "4ee2a2c3",
   "metadata": {},
   "outputs": [],
   "source": [
    "order_per_customer = df.groupby('Клиент')['Заказ'].count().reset_index()"
   ]
  },
  {
   "cell_type": "code",
   "execution_count": 26,
   "id": "105b0677",
   "metadata": {},
   "outputs": [
    {
     "data": {
      "text/html": [
       "<div>\n",
       "<style scoped>\n",
       "    .dataframe tbody tr th:only-of-type {\n",
       "        vertical-align: middle;\n",
       "    }\n",
       "\n",
       "    .dataframe tbody tr th {\n",
       "        vertical-align: top;\n",
       "    }\n",
       "\n",
       "    .dataframe thead th {\n",
       "        text-align: right;\n",
       "    }\n",
       "</style>\n",
       "<table border=\"1\" class=\"dataframe\">\n",
       "  <thead>\n",
       "    <tr style=\"text-align: right;\">\n",
       "      <th></th>\n",
       "      <th>Клиент</th>\n",
       "      <th>Заказ</th>\n",
       "    </tr>\n",
       "  </thead>\n",
       "  <tbody>\n",
       "    <tr>\n",
       "      <th>0</th>\n",
       "      <td>К1</td>\n",
       "      <td>7166</td>\n",
       "    </tr>\n",
       "    <tr>\n",
       "      <th>1</th>\n",
       "      <td>К10</td>\n",
       "      <td>13</td>\n",
       "    </tr>\n",
       "    <tr>\n",
       "      <th>2</th>\n",
       "      <td>К100</td>\n",
       "      <td>421</td>\n",
       "    </tr>\n",
       "    <tr>\n",
       "      <th>3</th>\n",
       "      <td>К1000</td>\n",
       "      <td>21</td>\n",
       "    </tr>\n",
       "    <tr>\n",
       "      <th>4</th>\n",
       "      <td>К1001</td>\n",
       "      <td>12</td>\n",
       "    </tr>\n",
       "    <tr>\n",
       "      <th>...</th>\n",
       "      <td>...</td>\n",
       "      <td>...</td>\n",
       "    </tr>\n",
       "    <tr>\n",
       "      <th>2299</th>\n",
       "      <td>К995</td>\n",
       "      <td>20</td>\n",
       "    </tr>\n",
       "    <tr>\n",
       "      <th>2300</th>\n",
       "      <td>К996</td>\n",
       "      <td>6</td>\n",
       "    </tr>\n",
       "    <tr>\n",
       "      <th>2301</th>\n",
       "      <td>К997</td>\n",
       "      <td>1</td>\n",
       "    </tr>\n",
       "    <tr>\n",
       "      <th>2302</th>\n",
       "      <td>К998</td>\n",
       "      <td>2</td>\n",
       "    </tr>\n",
       "    <tr>\n",
       "      <th>2303</th>\n",
       "      <td>К999</td>\n",
       "      <td>2</td>\n",
       "    </tr>\n",
       "  </tbody>\n",
       "</table>\n",
       "<p>2304 rows × 2 columns</p>\n",
       "</div>"
      ],
      "text/plain": [
       "     Клиент  Заказ\n",
       "0        К1   7166\n",
       "1       К10     13\n",
       "2      К100    421\n",
       "3     К1000     21\n",
       "4     К1001     12\n",
       "...     ...    ...\n",
       "2299   К995     20\n",
       "2300   К996      6\n",
       "2301   К997      1\n",
       "2302   К998      2\n",
       "2303   К999      2\n",
       "\n",
       "[2304 rows x 2 columns]"
      ]
     },
     "execution_count": 26,
     "metadata": {},
     "output_type": "execute_result"
    }
   ],
   "source": [
    "order_per_customer"
   ]
  },
  {
   "cell_type": "markdown",
   "id": "1994b453",
   "metadata": {},
   "source": [
    "#### аномальные клиенты"
   ]
  },
  {
   "cell_type": "code",
   "execution_count": 27,
   "id": "03c41109",
   "metadata": {},
   "outputs": [
    {
     "data": {
      "text/plain": [
       "<AxesSubplot:title={'center':' Среднее количество заказов на клиента'}, xlabel='Клиент', ylabel='Заказ'>"
      ]
     },
     "execution_count": 27,
     "metadata": {},
     "output_type": "execute_result"
    },
    {
     "data": {
      "image/png": "[encoded data removed]",
      "text/plain": [
       "<Figure size 432x288 with 1 Axes>"
      ]
     },
     "metadata": {
      "needs_background": "light"
     },
     "output_type": "display_data"
    }
   ],
   "source": [
    "order_per_customer.plot(kind='scatter', x='Клиент', y='Заказ', \n",
    "                        title = ' Среднее количество заказов на клиента')"
   ]
  },
  {
   "cell_type": "markdown",
   "id": "be11bf47",
   "metadata": {},
   "source": [
    "Большинство клиентов делают не так много заказов, есть несколько клиентов с аномально большим количеством заказов. Посмотрим, какое среднее количество заказов без учета аномальных клиентов."
   ]
  },
  {
   "cell_type": "code",
   "execution_count": 28,
   "id": "5e18cfb5",
   "metadata": {},
   "outputs": [
    {
     "data": {
      "text/html": [
       "<div>\n",
       "<style scoped>\n",
       "    .dataframe tbody tr th:only-of-type {\n",
       "        vertical-align: middle;\n",
       "    }\n",
       "\n",
       "    .dataframe tbody tr th {\n",
       "        vertical-align: top;\n",
       "    }\n",
       "\n",
       "    .dataframe thead th {\n",
       "        text-align: right;\n",
       "    }\n",
       "</style>\n",
       "<table border=\"1\" class=\"dataframe\">\n",
       "  <thead>\n",
       "    <tr style=\"text-align: right;\">\n",
       "      <th></th>\n",
       "      <th>Заказ</th>\n",
       "    </tr>\n",
       "  </thead>\n",
       "  <tbody>\n",
       "    <tr>\n",
       "      <th>count</th>\n",
       "      <td>2304.00</td>\n",
       "    </tr>\n",
       "    <tr>\n",
       "      <th>mean</th>\n",
       "      <td>36.44</td>\n",
       "    </tr>\n",
       "    <tr>\n",
       "      <th>std</th>\n",
       "      <td>237.72</td>\n",
       "    </tr>\n",
       "    <tr>\n",
       "      <th>min</th>\n",
       "      <td>1.00</td>\n",
       "    </tr>\n",
       "    <tr>\n",
       "      <th>50%</th>\n",
       "      <td>3.00</td>\n",
       "    </tr>\n",
       "    <tr>\n",
       "      <th>75%</th>\n",
       "      <td>12.00</td>\n",
       "    </tr>\n",
       "    <tr>\n",
       "      <th>95%</th>\n",
       "      <td>100.55</td>\n",
       "    </tr>\n",
       "    <tr>\n",
       "      <th>98%</th>\n",
       "      <td>241.76</td>\n",
       "    </tr>\n",
       "    <tr>\n",
       "      <th>99%</th>\n",
       "      <td>630.73</td>\n",
       "    </tr>\n",
       "    <tr>\n",
       "      <th>max</th>\n",
       "      <td>7166.00</td>\n",
       "    </tr>\n",
       "  </tbody>\n",
       "</table>\n",
       "</div>"
      ],
      "text/plain": [
       "        Заказ\n",
       "count 2304.00\n",
       "mean    36.44\n",
       "std    237.72\n",
       "min      1.00\n",
       "50%      3.00\n",
       "75%     12.00\n",
       "95%    100.55\n",
       "98%    241.76\n",
       "99%    630.73\n",
       "max   7166.00"
      ]
     },
     "execution_count": 28,
     "metadata": {},
     "output_type": "execute_result"
    }
   ],
   "source": [
    "order_per_customer.describe(percentiles = [.75, .95, .98, .99])"
   ]
  },
  {
   "cell_type": "markdown",
   "id": "89ee100d",
   "metadata": {},
   "source": [
    "Выделяю список аномальных клиентов, которые сделали более 630 заказов за 2 года (1% клиентов)."
   ]
  },
  {
   "cell_type": "code",
   "execution_count": 29,
   "id": "8fa3b9a8",
   "metadata": {},
   "outputs": [
    {
     "data": {
      "text/plain": [
       "0         К1\n",
       "35      К103\n",
       "90      К108\n",
       "445      К14\n",
       "556      К15\n",
       "667      К16\n",
       "1112     К20\n",
       "1157    К204\n",
       "1334     К22\n",
       "1484     К26\n",
       "1529     К30\n",
       "1573     К34\n",
       "1628     К39\n",
       "1672     К43\n",
       "1705     К46\n",
       "1749      К5\n",
       "1750     К50\n",
       "1761     К51\n",
       "1772     К52\n",
       "1783     К53\n",
       "1861     К60\n",
       "1971      К7\n",
       "2193      К9\n",
       "2260     К96\n",
       "Name: Клиент, dtype: object"
      ]
     },
     "execution_count": 29,
     "metadata": {},
     "output_type": "execute_result"
    }
   ],
   "source": [
    "abnormal_customers = order_per_customer[order_per_customer['Заказ'] > 630]['Клиент']\n",
    "abnormal_customers"
   ]
  },
  {
   "cell_type": "code",
   "execution_count": 30,
   "id": "c77eb4f0",
   "metadata": {},
   "outputs": [
    {
     "data": {
      "text/plain": [
       "24"
      ]
     },
     "execution_count": 30,
     "metadata": {},
     "output_type": "execute_result"
    }
   ],
   "source": [
    "len(abnormal_customers)"
   ]
  },
  {
   "cell_type": "markdown",
   "id": "5f9f3676",
   "metadata": {},
   "source": [
    "смотрю среднее количество заказов на клиента без аномальных клиентов"
   ]
  },
  {
   "cell_type": "code",
   "execution_count": 31,
   "id": "72752342",
   "metadata": {},
   "outputs": [
    {
     "data": {
      "text/plain": [
       "13.172373766686013"
      ]
     },
     "execution_count": 31,
     "metadata": {},
     "output_type": "execute_result"
    }
   ],
   "source": [
    "df[(df['Year'] == 2022) & ~df['Клиент'].isin(abnormal_customers)].groupby('Клиент')['Заказ'].count().mean()"
   ]
  },
  {
   "cell_type": "code",
   "execution_count": 32,
   "id": "4cc18466",
   "metadata": {},
   "outputs": [
    {
     "data": {
      "text/plain": [
       "11.646575342465754"
      ]
     },
     "execution_count": 32,
     "metadata": {},
     "output_type": "execute_result"
    }
   ],
   "source": [
    "df[(df['Year'] == 2023) & ~df['Клиент'].isin(abnormal_customers)].groupby('Клиент')['Заказ'].count().mean()"
   ]
  },
  {
   "cell_type": "code",
   "execution_count": 33,
   "id": "db4e5992",
   "metadata": {},
   "outputs": [
    {
     "data": {
      "text/plain": [
       "-11.583321664308716"
      ]
     },
     "execution_count": 33,
     "metadata": {},
     "output_type": "execute_result"
    }
   ],
   "source": [
    "(11.646575342465754 - 13.172373766686013)/13.172373766686013*100"
   ]
  },
  {
   "cell_type": "markdown",
   "id": "307bc7cd",
   "metadata": {},
   "source": [
    "снижение количества заказов более выраженное - на 11,5%"
   ]
  },
  {
   "cell_type": "markdown",
   "id": "1b5072fd",
   "metadata": {},
   "source": [
    "### А есть ли новые клиенты в 2023?"
   ]
  },
  {
   "cell_type": "code",
   "execution_count": 34,
   "id": "aee1a01a",
   "metadata": {},
   "outputs": [
    {
     "data": {
      "text/plain": [
       "array(['К1', 'К2', 'К4', ..., 'К2303', 'К1626', 'К2305'], dtype=object)"
      ]
     },
     "execution_count": 34,
     "metadata": {},
     "output_type": "execute_result"
    }
   ],
   "source": [
    "customers22 = df[df['Year'] == 2022]['Клиент'].unique()\n",
    "customers22"
   ]
  },
  {
   "cell_type": "code",
   "execution_count": 35,
   "id": "07021e40",
   "metadata": {},
   "outputs": [],
   "source": [
    "customers23 = df[df['Year'] == 2023]['Клиент'].unique()"
   ]
  },
  {
   "cell_type": "code",
   "execution_count": 36,
   "id": "bc41b544",
   "metadata": {},
   "outputs": [
    {
     "data": {
      "text/plain": [
       "557"
      ]
     },
     "execution_count": 36,
     "metadata": {},
     "output_type": "execute_result"
    }
   ],
   "source": [
    "new_customers23 = set(customers23) - set(customers22)\n",
    "len(new_customers23)"
   ]
  },
  {
   "cell_type": "code",
   "execution_count": 37,
   "id": "81a9d3c3",
   "metadata": {},
   "outputs": [
    {
     "data": {
      "text/plain": [
       "820"
      ]
     },
     "execution_count": 37,
     "metadata": {},
     "output_type": "execute_result"
    }
   ],
   "source": [
    "lost_customers22 = set(customers22) - set(customers23)\n",
    "len(lost_customers22)"
   ]
  },
  {
   "cell_type": "markdown",
   "id": "257ef479",
   "metadata": {},
   "source": [
    "Мы теряем клиентов быстрее, чем приобретаем. Так как среднее количество заказов на клиента не изменилось, то можно предположить, что уровень сервиса и привлекательности продавца не стал хуже (и не стал лучше), но наши клиенты мигрируют (или уходят с рынка, или переходят к конкуренту), и новых клиентов мы привлекаем медленнее, чем теряем старых, поэтому происходит снижение продаж."
   ]
  },
  {
   "cell_type": "markdown",
   "id": "27f6a050",
   "metadata": {},
   "source": [
    "### качество потерянных и приобретенных клиентов\n",
    "посмотрим, кого мы потеряли и кого приобрели"
   ]
  },
  {
   "cell_type": "code",
   "execution_count": 38,
   "id": "0079070c",
   "metadata": {},
   "outputs": [],
   "source": [
    "lost_cust_orders = df[df['Клиент'].isin(lost_customers22)]\n",
    "new_cust_orders = df[df['Клиент'].isin(new_customers23)]"
   ]
  },
  {
   "cell_type": "code",
   "execution_count": 39,
   "id": "d6d2ef08",
   "metadata": {},
   "outputs": [
    {
     "data": {
      "text/plain": [
       "5.181707317073171"
      ]
     },
     "execution_count": 39,
     "metadata": {},
     "output_type": "execute_result"
    }
   ],
   "source": [
    "lost_cust_orders.groupby('Клиент')['Заказ'].count().mean()"
   ]
  },
  {
   "cell_type": "code",
   "execution_count": 40,
   "id": "b2513b13",
   "metadata": {},
   "outputs": [
    {
     "data": {
      "text/plain": [
       "3.3770197486535007"
      ]
     },
     "execution_count": 40,
     "metadata": {},
     "output_type": "execute_result"
    }
   ],
   "source": [
    "new_cust_orders.groupby('Клиент')['Заказ'].count().mean()"
   ]
  },
  {
   "cell_type": "markdown",
   "id": "c4298b37",
   "metadata": {},
   "source": [
    "Новые клиенты делают меньше заказов, что ожидаемо, но и потерянные клиенты были не из самых лояльных (в среднем 5 заказов на клиента по сравнению с 26 заказами в среднем по всей клиентской базе в 2022 году)."
   ]
  },
  {
   "cell_type": "code",
   "execution_count": 41,
   "id": "142630e9",
   "metadata": {},
   "outputs": [
    {
     "data": {
      "text/plain": [
       "5409.6545064271595"
      ]
     },
     "execution_count": 41,
     "metadata": {},
     "output_type": "execute_result"
    }
   ],
   "source": [
    "lost_cust_orders.groupby('Клиент')['Сумма'].sum().sum()/len(lost_cust_orders)"
   ]
  },
  {
   "cell_type": "code",
   "execution_count": 42,
   "id": "7a5b7681",
   "metadata": {},
   "outputs": [
    {
     "data": {
      "text/plain": [
       "9374.660410552897"
      ]
     },
     "execution_count": 42,
     "metadata": {},
     "output_type": "execute_result"
    }
   ],
   "source": [
    "new_cust_orders.groupby('Клиент')['Сумма'].sum().sum()/len(new_cust_orders)"
   ]
  },
  {
   "cell_type": "code",
   "execution_count": 43,
   "id": "b3babb36",
   "metadata": {},
   "outputs": [
    {
     "data": {
      "text/plain": [
       "28031.246338791454"
      ]
     },
     "execution_count": 43,
     "metadata": {},
     "output_type": "execute_result"
    }
   ],
   "source": [
    "lost_cust_orders.groupby('Клиент')['Сумма'].sum().mean()"
   ]
  },
  {
   "cell_type": "code",
   "execution_count": 44,
   "id": "366a53b4",
   "metadata": {},
   "outputs": [
    {
     "data": {
      "text/plain": [
       "31658.41334335726"
      ]
     },
     "execution_count": 44,
     "metadata": {},
     "output_type": "execute_result"
    }
   ],
   "source": [
    "new_cust_orders.groupby('Клиент')['Сумма'].sum().mean()"
   ]
  },
  {
   "cell_type": "code",
   "execution_count": 45,
   "id": "3350eab6",
   "metadata": {},
   "outputs": [],
   "source": [
    "diff_average_order_sum = (\n",
    "    (new_cust_orders.groupby('Клиент')['Сумма'].sum().mean()\n",
    "     - lost_cust_orders.groupby('Клиент')['Сумма'].sum().mean())\n",
    "    /lost_cust_orders.groupby('Клиент')['Сумма'].sum().mean()\n",
    ")\n"
   ]
  },
  {
   "cell_type": "code",
   "execution_count": 46,
   "id": "25141263",
   "metadata": {},
   "outputs": [
    {
     "data": {
      "text/plain": [
       "4.059764549013968e-06"
      ]
     },
     "execution_count": 46,
     "metadata": {},
     "output_type": "execute_result"
    }
   ],
   "source": [
    "diff_average_sales_per_cust = (\n",
    "    (new_cust_orders.groupby('Клиент')['Сумма'].sum().sum()/len(new_cust_orders)\n",
    "     - lost_cust_orders.groupby('Клиент')['Сумма'].sum().sum()/len(lost_cust_orders))\n",
    "    / lost_cust_orders.groupby('Клиент')['Сумма'].sum().sum()/len(lost_cust_orders) * 100\n",
    ")\n",
    "diff_average_sales_per_cust"
   ]
  },
  {
   "cell_type": "code",
   "execution_count": 47,
   "id": "7bd9822d",
   "metadata": {},
   "outputs": [
    {
     "name": "stdout",
     "output_type": "stream",
     "text": [
      "У новых клиентов больше средняя сумма одного заказа на 12.94% и больше средняя сумма продажи на одного клиента на  0.00%.\n"
     ]
    }
   ],
   "source": [
    "print(f'У новых клиентов больше средняя сумма одного заказа на {diff_average_order_sum:.2%}'\n",
    "      f' и больше средняя сумма продажи на одного клиента на  {diff_average_sales_per_cust:.2%}.')"
   ]
  },
  {
   "cell_type": "markdown",
   "id": "816f901a",
   "metadata": {},
   "source": [
    "Далее можно исследовать, в какие даты к нам приходили новые клиенты, и сопоставить с периодами наших маркетинговых активностей или что вообще происходило в компании/на рынке, и попробовать оценить результативность рекламы/маркетинга."
   ]
  },
  {
   "cell_type": "markdown",
   "id": "45557514",
   "metadata": {},
   "source": [
    "### Заказы по месяцам"
   ]
  },
  {
   "cell_type": "code",
   "execution_count": 48,
   "id": "2aa6a68a",
   "metadata": {},
   "outputs": [
    {
     "data": {
      "text/html": [
       "<div>\n",
       "<style scoped>\n",
       "    .dataframe tbody tr th:only-of-type {\n",
       "        vertical-align: middle;\n",
       "    }\n",
       "\n",
       "    .dataframe tbody tr th {\n",
       "        vertical-align: top;\n",
       "    }\n",
       "\n",
       "    .dataframe thead th {\n",
       "        text-align: right;\n",
       "    }\n",
       "</style>\n",
       "<table border=\"1\" class=\"dataframe\">\n",
       "  <thead>\n",
       "    <tr style=\"text-align: right;\">\n",
       "      <th></th>\n",
       "      <th>Заказ</th>\n",
       "      <th>Дата продажи</th>\n",
       "      <th>Сумма</th>\n",
       "      <th>Проданный заказ</th>\n",
       "      <th>Клиент</th>\n",
       "      <th>Сумма исполнителю</th>\n",
       "      <th>Дата выручки</th>\n",
       "      <th>Дата оплаты</th>\n",
       "      <th>Статус счета</th>\n",
       "      <th>Дата акта</th>\n",
       "      <th>Неоплаченная сумма</th>\n",
       "      <th>Year</th>\n",
       "      <th>Month</th>\n",
       "    </tr>\n",
       "  </thead>\n",
       "  <tbody>\n",
       "    <tr>\n",
       "      <th>0</th>\n",
       "      <td>S_167</td>\n",
       "      <td>2022-01-31</td>\n",
       "      <td>14311.88</td>\n",
       "      <td>NaN</td>\n",
       "      <td>К1</td>\n",
       "      <td>3494.39</td>\n",
       "      <td>2022-03-01</td>\n",
       "      <td>2022-03-11</td>\n",
       "      <td>Оплачена</td>\n",
       "      <td>2022-03-01</td>\n",
       "      <td>0</td>\n",
       "      <td>2022</td>\n",
       "      <td>1</td>\n",
       "    </tr>\n",
       "    <tr>\n",
       "      <th>1</th>\n",
       "      <td>S_521</td>\n",
       "      <td>2022-03-10</td>\n",
       "      <td>5027.35</td>\n",
       "      <td>NaN</td>\n",
       "      <td>К1</td>\n",
       "      <td>2613.90</td>\n",
       "      <td>2022-04-01</td>\n",
       "      <td>2022-04-22</td>\n",
       "      <td>Оплачена</td>\n",
       "      <td>2022-04-01</td>\n",
       "      <td>0</td>\n",
       "      <td>2022</td>\n",
       "      <td>3</td>\n",
       "    </tr>\n",
       "    <tr>\n",
       "      <th>2</th>\n",
       "      <td>VL112</td>\n",
       "      <td>2022-03-23</td>\n",
       "      <td>470.85</td>\n",
       "      <td>NaN</td>\n",
       "      <td>К2</td>\n",
       "      <td>226.73</td>\n",
       "      <td>2022-03-23</td>\n",
       "      <td>2022-03-23</td>\n",
       "      <td>Оплачена</td>\n",
       "      <td>NaT</td>\n",
       "      <td>0</td>\n",
       "      <td>2022</td>\n",
       "      <td>3</td>\n",
       "    </tr>\n",
       "    <tr>\n",
       "      <th>3</th>\n",
       "      <td>S_218</td>\n",
       "      <td>2023-02-03</td>\n",
       "      <td>158.12</td>\n",
       "      <td>NaN</td>\n",
       "      <td>К3</td>\n",
       "      <td>12.38</td>\n",
       "      <td>2023-02-08</td>\n",
       "      <td>2023-02-10</td>\n",
       "      <td>Оплачена</td>\n",
       "      <td>2023-02-08</td>\n",
       "      <td>0</td>\n",
       "      <td>2023</td>\n",
       "      <td>2</td>\n",
       "    </tr>\n",
       "    <tr>\n",
       "      <th>4</th>\n",
       "      <td>S_-31</td>\n",
       "      <td>2022-06-10</td>\n",
       "      <td>5064.54</td>\n",
       "      <td>NaN</td>\n",
       "      <td>К4</td>\n",
       "      <td>665.04</td>\n",
       "      <td>2022-06-27</td>\n",
       "      <td>2022-06-29</td>\n",
       "      <td>Оплачена</td>\n",
       "      <td>2022-06-27</td>\n",
       "      <td>0</td>\n",
       "      <td>2022</td>\n",
       "      <td>6</td>\n",
       "    </tr>\n",
       "  </tbody>\n",
       "</table>\n",
       "</div>"
      ],
      "text/plain": [
       "   Заказ Дата продажи    Сумма Проданный заказ Клиент  Сумма исполнителю  \\\n",
       "0  S_167   2022-01-31 14311.88             NaN     К1            3494.39   \n",
       "1  S_521   2022-03-10  5027.35             NaN     К1            2613.90   \n",
       "2  VL112   2022-03-23   470.85             NaN     К2             226.73   \n",
       "3  S_218   2023-02-03   158.12             NaN     К3              12.38   \n",
       "4  S_-31   2022-06-10  5064.54             NaN     К4             665.04   \n",
       "\n",
       "  Дата выручки Дата оплаты Статус счета  Дата акта Неоплаченная сумма  Year  \\\n",
       "0   2022-03-01  2022-03-11     Оплачена 2022-03-01                  0  2022   \n",
       "1   2022-04-01  2022-04-22     Оплачена 2022-04-01                  0  2022   \n",
       "2   2022-03-23  2022-03-23     Оплачена        NaT                  0  2022   \n",
       "3   2023-02-08  2023-02-10     Оплачена 2023-02-08                  0  2023   \n",
       "4   2022-06-27  2022-06-29     Оплачена 2022-06-27                  0  2022   \n",
       "\n",
       "   Month  \n",
       "0      1  \n",
       "1      3  \n",
       "2      3  \n",
       "3      2  \n",
       "4      6  "
      ]
     },
     "execution_count": 48,
     "metadata": {},
     "output_type": "execute_result"
    }
   ],
   "source": [
    "df.head()"
   ]
  },
  {
   "cell_type": "code",
   "execution_count": 49,
   "id": "93c405cc",
   "metadata": {},
   "outputs": [],
   "source": [
    "orders_per_month22 = df[df['Year'] == 2022].groupby('Month')['Заказ'].count()\n",
    "orders_per_month23 = df[df['Year'] == 2023].groupby('Month')['Заказ'].count()"
   ]
  },
  {
   "cell_type": "code",
   "execution_count": 50,
   "id": "a64d13fd",
   "metadata": {},
   "outputs": [],
   "source": [
    "orders_per_month = orders_per_month22.reset_index()\n",
    "orders_per_month.index += 1\n",
    "orders_per_month = orders_per_month.drop('Month', axis=1)\n",
    "orders_per_month = orders_per_month.rename(columns={'Заказ':2022})"
   ]
  },
  {
   "cell_type": "code",
   "execution_count": 51,
   "id": "508ea104",
   "metadata": {},
   "outputs": [
    {
     "data": {
      "text/html": [
       "<div>\n",
       "<style scoped>\n",
       "    .dataframe tbody tr th:only-of-type {\n",
       "        vertical-align: middle;\n",
       "    }\n",
       "\n",
       "    .dataframe tbody tr th {\n",
       "        vertical-align: top;\n",
       "    }\n",
       "\n",
       "    .dataframe thead th {\n",
       "        text-align: right;\n",
       "    }\n",
       "</style>\n",
       "<table border=\"1\" class=\"dataframe\">\n",
       "  <thead>\n",
       "    <tr style=\"text-align: right;\">\n",
       "      <th></th>\n",
       "      <th>2022</th>\n",
       "      <th>2023</th>\n",
       "    </tr>\n",
       "  </thead>\n",
       "  <tbody>\n",
       "    <tr>\n",
       "      <th>1</th>\n",
       "      <td>3483</td>\n",
       "      <td>2839</td>\n",
       "    </tr>\n",
       "    <tr>\n",
       "      <th>2</th>\n",
       "      <td>4228</td>\n",
       "      <td>3042</td>\n",
       "    </tr>\n",
       "    <tr>\n",
       "      <th>3</th>\n",
       "      <td>4352</td>\n",
       "      <td>3707</td>\n",
       "    </tr>\n",
       "    <tr>\n",
       "      <th>4</th>\n",
       "      <td>4161</td>\n",
       "      <td>3528</td>\n",
       "    </tr>\n",
       "    <tr>\n",
       "      <th>5</th>\n",
       "      <td>3371</td>\n",
       "      <td>3446</td>\n",
       "    </tr>\n",
       "    <tr>\n",
       "      <th>6</th>\n",
       "      <td>3707</td>\n",
       "      <td>3372</td>\n",
       "    </tr>\n",
       "    <tr>\n",
       "      <th>7</th>\n",
       "      <td>3449</td>\n",
       "      <td>3272</td>\n",
       "    </tr>\n",
       "    <tr>\n",
       "      <th>8</th>\n",
       "      <td>3801</td>\n",
       "      <td>3439</td>\n",
       "    </tr>\n",
       "    <tr>\n",
       "      <th>9</th>\n",
       "      <td>3823</td>\n",
       "      <td>2987</td>\n",
       "    </tr>\n",
       "    <tr>\n",
       "      <th>10</th>\n",
       "      <td>3739</td>\n",
       "      <td>3080</td>\n",
       "    </tr>\n",
       "    <tr>\n",
       "      <th>11</th>\n",
       "      <td>3840</td>\n",
       "      <td>3049</td>\n",
       "    </tr>\n",
       "    <tr>\n",
       "      <th>12</th>\n",
       "      <td>3517</td>\n",
       "      <td>2725</td>\n",
       "    </tr>\n",
       "  </tbody>\n",
       "</table>\n",
       "</div>"
      ],
      "text/plain": [
       "    2022  2023\n",
       "1   3483  2839\n",
       "2   4228  3042\n",
       "3   4352  3707\n",
       "4   4161  3528\n",
       "5   3371  3446\n",
       "6   3707  3372\n",
       "7   3449  3272\n",
       "8   3801  3439\n",
       "9   3823  2987\n",
       "10  3739  3080\n",
       "11  3840  3049\n",
       "12  3517  2725"
      ]
     },
     "execution_count": 51,
     "metadata": {},
     "output_type": "execute_result"
    }
   ],
   "source": [
    "orders_per_month['2023'] = orders_per_month23\n",
    "orders_per_month"
   ]
  },
  {
   "cell_type": "code",
   "execution_count": 52,
   "id": "47da30b0",
   "metadata": {},
   "outputs": [
    {
     "data": {
      "text/plain": [
       "<AxesSubplot:title={'center':'Динамика количества заказов в месяц.'}>"
      ]
     },
     "execution_count": 52,
     "metadata": {},
     "output_type": "execute_result"
    },
    {
     "data": {
      "image/png": "[encoded data removed]",
      "text/plain": [
       "<Figure size 432x288 with 1 Axes>"
      ]
     },
     "metadata": {
      "needs_background": "light"
     },
     "output_type": "display_data"
    }
   ],
   "source": [
    "orders_per_month.plot(kind = 'bar', title = 'Динамика количества заказов в месяц.')"
   ]
  },
  {
   "cell_type": "markdown",
   "id": "45547fcf",
   "metadata": {},
   "source": [
    "\n",
    "снижение количества заказов в месяц при сравнении год к году (кроме мая и вообще летом относительный провал меньше)"
   ]
  },
  {
   "cell_type": "markdown",
   "id": "ff591033",
   "metadata": {},
   "source": [
    "### Динамика объема продаж - падение на 7%"
   ]
  },
  {
   "cell_type": "code",
   "execution_count": 53,
   "id": "ce9d49b3",
   "metadata": {},
   "outputs": [
    {
     "data": {
      "text/plain": [
       "Year\n",
       "2022   244041111.38\n",
       "2023   227166362.29\n",
       "Name: Сумма, dtype: float64"
      ]
     },
     "execution_count": 53,
     "metadata": {},
     "output_type": "execute_result"
    }
   ],
   "source": [
    "df.groupby('Year')['Сумма'].sum()"
   ]
  },
  {
   "cell_type": "code",
   "execution_count": 54,
   "id": "7369412e",
   "metadata": {},
   "outputs": [
    {
     "name": "stdout",
     "output_type": "stream",
     "text": [
      "Year\n",
      "2022   244041111.38\n",
      "Name: Сумма, dtype: float64 Year\n",
      "2023   227166362.29\n",
      "Name: Сумма, dtype: float64\n"
     ]
    }
   ],
   "source": [
    "sales2022 = df[df['Year'] == 2022].groupby('Year')['Сумма'].sum()\n",
    "sales2023 = df[df['Year'] == 2023].groupby('Year')['Сумма'].sum()\n",
    "print(sales2022, sales2023)"
   ]
  },
  {
   "cell_type": "code",
   "execution_count": 55,
   "id": "30a6b857",
   "metadata": {},
   "outputs": [
    {
     "data": {
      "text/plain": [
       "-0.0691471571923965"
      ]
     },
     "execution_count": 55,
     "metadata": {},
     "output_type": "execute_result"
    }
   ],
   "source": [
    "(227166362.29 - 244041111.38)/244041111.38"
   ]
  },
  {
   "cell_type": "markdown",
   "id": "9e959af3",
   "metadata": {},
   "source": [
    "#### объем продаж аномальных клиентов\n",
    "Аномальные клиенты (abnormal_customers) - это 1% клиентов, которые сделали более 630 заказов за 2 года."
   ]
  },
  {
   "cell_type": "code",
   "execution_count": 56,
   "id": "ab40e348",
   "metadata": {},
   "outputs": [],
   "source": [
    "abnormal_sales = df[df['Клиент'].isin(abnormal_customers)].groupby('Year')['Сумма'].sum()"
   ]
  },
  {
   "cell_type": "code",
   "execution_count": 57,
   "id": "53a7f52a",
   "metadata": {},
   "outputs": [],
   "source": [
    "abnormal_share = pd.concat([abnormal_sales, df.groupby('Year')['Сумма'].sum()], axis=1)"
   ]
  },
  {
   "cell_type": "code",
   "execution_count": 58,
   "id": "1a348bf0",
   "metadata": {},
   "outputs": [
    {
     "data": {
      "text/html": [
       "<div>\n",
       "<style scoped>\n",
       "    .dataframe tbody tr th:only-of-type {\n",
       "        vertical-align: middle;\n",
       "    }\n",
       "\n",
       "    .dataframe tbody tr th {\n",
       "        vertical-align: top;\n",
       "    }\n",
       "\n",
       "    .dataframe thead th {\n",
       "        text-align: right;\n",
       "    }\n",
       "</style>\n",
       "<table border=\"1\" class=\"dataframe\">\n",
       "  <thead>\n",
       "    <tr style=\"text-align: right;\">\n",
       "      <th></th>\n",
       "      <th>Abnormal</th>\n",
       "      <th>Total</th>\n",
       "      <th>Normal</th>\n",
       "    </tr>\n",
       "    <tr>\n",
       "      <th>Year</th>\n",
       "      <th></th>\n",
       "      <th></th>\n",
       "      <th></th>\n",
       "    </tr>\n",
       "  </thead>\n",
       "  <tbody>\n",
       "    <tr>\n",
       "      <th>2022</th>\n",
       "      <td>104701663.57</td>\n",
       "      <td>244041111.38</td>\n",
       "      <td>139339447.81</td>\n",
       "    </tr>\n",
       "    <tr>\n",
       "      <th>2023</th>\n",
       "      <td>106093995.35</td>\n",
       "      <td>227166362.29</td>\n",
       "      <td>121072366.94</td>\n",
       "    </tr>\n",
       "  </tbody>\n",
       "</table>\n",
       "</div>"
      ],
      "text/plain": [
       "         Abnormal        Total       Normal\n",
       "Year                                       \n",
       "2022 104701663.57 244041111.38 139339447.81\n",
       "2023 106093995.35 227166362.29 121072366.94"
      ]
     },
     "execution_count": 58,
     "metadata": {},
     "output_type": "execute_result"
    }
   ],
   "source": [
    "abnormal_share.set_axis(['Abnormal','Total'], axis=1, inplace=True)\n",
    "abnormal_share['Normal'] = abnormal_share['Total'] - abnormal_share['Abnormal']\n",
    "abnormal_share"
   ]
  },
  {
   "cell_type": "code",
   "execution_count": 59,
   "id": "1380bcdd",
   "metadata": {},
   "outputs": [],
   "source": [
    "abnormal_share.loc['Difference'] = abnormal_share.apply(lambda x: (x[2023]-x[2022])/x[2022]*100)"
   ]
  },
  {
   "cell_type": "code",
   "execution_count": 60,
   "id": "e957c224",
   "metadata": {},
   "outputs": [],
   "source": [
    "abnormal_share['Abnormal_share %'] = abnormal_share['Abnormal']/ abnormal_share['Total'] * 100"
   ]
  },
  {
   "cell_type": "code",
   "execution_count": 61,
   "id": "4be00e4a",
   "metadata": {},
   "outputs": [
    {
     "data": {
      "text/html": [
       "<div>\n",
       "<style scoped>\n",
       "    .dataframe tbody tr th:only-of-type {\n",
       "        vertical-align: middle;\n",
       "    }\n",
       "\n",
       "    .dataframe tbody tr th {\n",
       "        vertical-align: top;\n",
       "    }\n",
       "\n",
       "    .dataframe thead th {\n",
       "        text-align: right;\n",
       "    }\n",
       "</style>\n",
       "<table border=\"1\" class=\"dataframe\">\n",
       "  <thead>\n",
       "    <tr style=\"text-align: right;\">\n",
       "      <th></th>\n",
       "      <th>Abnormal</th>\n",
       "      <th>Total</th>\n",
       "      <th>Normal</th>\n",
       "      <th>Abnormal_share %</th>\n",
       "    </tr>\n",
       "    <tr>\n",
       "      <th>Year</th>\n",
       "      <th></th>\n",
       "      <th></th>\n",
       "      <th></th>\n",
       "      <th></th>\n",
       "    </tr>\n",
       "  </thead>\n",
       "  <tbody>\n",
       "    <tr>\n",
       "      <th>2022</th>\n",
       "      <td>104701663.57</td>\n",
       "      <td>244041111.38</td>\n",
       "      <td>139339447.81</td>\n",
       "      <td>42.90</td>\n",
       "    </tr>\n",
       "    <tr>\n",
       "      <th>2023</th>\n",
       "      <td>106093995.35</td>\n",
       "      <td>227166362.29</td>\n",
       "      <td>121072366.94</td>\n",
       "      <td>46.70</td>\n",
       "    </tr>\n",
       "    <tr>\n",
       "      <th>Difference</th>\n",
       "      <td>1.33</td>\n",
       "      <td>-6.91</td>\n",
       "      <td>-13.11</td>\n",
       "      <td>-19.23</td>\n",
       "    </tr>\n",
       "  </tbody>\n",
       "</table>\n",
       "</div>"
      ],
      "text/plain": [
       "               Abnormal        Total       Normal  Abnormal_share %\n",
       "Year                                                               \n",
       "2022       104701663.57 244041111.38 139339447.81             42.90\n",
       "2023       106093995.35 227166362.29 121072366.94             46.70\n",
       "Difference         1.33        -6.91       -13.11            -19.23"
      ]
     },
     "execution_count": 61,
     "metadata": {},
     "output_type": "execute_result"
    }
   ],
   "source": [
    "abnormal_share"
   ]
  },
  {
   "cell_type": "code",
   "execution_count": null,
   "id": "d7e8b14b",
   "metadata": {},
   "outputs": [],
   "source": []
  },
  {
   "cell_type": "markdown",
   "id": "75669b07",
   "metadata": {},
   "source": [
    "### продажи по месяцам"
   ]
  },
  {
   "cell_type": "code",
   "execution_count": 62,
   "id": "b981d9f4",
   "metadata": {},
   "outputs": [],
   "source": [
    "sales_per_month22 = df[df['Year'] == 2022].groupby('Month')['Сумма'].sum()\n",
    "sales_per_month23 = df[df['Year'] == 2023].groupby('Month')['Сумма'].sum()"
   ]
  },
  {
   "cell_type": "code",
   "execution_count": 63,
   "id": "70e9b661",
   "metadata": {},
   "outputs": [],
   "source": [
    "sales_per_month = pd.concat([sales_per_month22, sales_per_month23], axis=1)"
   ]
  },
  {
   "cell_type": "code",
   "execution_count": 64,
   "id": "cb953491",
   "metadata": {},
   "outputs": [
    {
     "data": {
      "image/png": "[encoded data removed]",
      "text/plain": [
       "<Figure size 432x288 with 1 Axes>"
      ]
     },
     "metadata": {
      "needs_background": "light"
     },
     "output_type": "display_data"
    }
   ],
   "source": [
    "ax = sales_per_month.plot(kind='bar', title='Динамика продаж по месяцам.')\n",
    "ax.legend(['2022','2023']);"
   ]
  },
  {
   "cell_type": "markdown",
   "id": "c3b6c42a",
   "metadata": {},
   "source": [
    "при сравнении месяц к месяцу продажи ниже каждый месяц, кроме периода май-август, но рост в эти месяцы не компенсирует снижение в остальные месяцы"
   ]
  },
  {
   "cell_type": "markdown",
   "id": "2e684a8f",
   "metadata": {},
   "source": [
    "### Динамика выплат исполнителям"
   ]
  },
  {
   "cell_type": "code",
   "execution_count": 65,
   "id": "9c321b5c",
   "metadata": {},
   "outputs": [
    {
     "data": {
      "image/png": "[encoded data removed]",
      "text/plain": [
       "<Figure size 432x288 with 1 Axes>"
      ]
     },
     "metadata": {
      "needs_background": "light"
     },
     "output_type": "display_data"
    }
   ],
   "source": [
    "payments_per_month22 = df[df['Year'] == 2022].groupby('Month')['Сумма исполнителю'].sum()\n",
    "payments_per_month23 = df[df['Year'] == 2023].groupby('Month')['Сумма исполнителю'].sum()\n",
    "payments_per_month = pd.concat([payments_per_month22, payments_per_month23], axis=1)\n",
    "ax = payments_per_month.plot(kind='bar', title = 'Динамика выплат исполнителям по месяцам.')\n",
    "ax.legend(['2022', '2023']);"
   ]
  },
  {
   "cell_type": "markdown",
   "id": "f770d181",
   "metadata": {},
   "source": [
    "визуально динамика выплат исполнителям соответствует динамике продаж"
   ]
  }
 ],
 "metadata": {
  "kernelspec": {
   "display_name": "Python 3",
   "language": "python",
   "name": "python3"
  },
  "language_info": {
   "codemirror_mode": {
    "name": "ipython",
    "version": 3
   },
   "file_extension": ".py",
   "mimetype": "text/x-python",
   "name": "python",
   "nbconvert_exporter": "python",
   "pygments_lexer": "ipython3",
   "version": "3.8.8"
  },
  "toc": {
   "base_numbering": 1,
   "nav_menu": {},
   "number_sections": true,
   "sideBar": true,
   "skip_h1_title": false,
   "title_cell": "Table of Contents",
   "title_sidebar": "Contents",
   "toc_cell": false,
   "toc_position": {
    "height": "calc(100% - 180px)",
    "left": "10px",
    "top": "150px",
    "width": "288px"
   },
   "toc_section_display": true,
   "toc_window_display": true
  }
 },
 "nbformat": 4,
 "nbformat_minor": 5
}
